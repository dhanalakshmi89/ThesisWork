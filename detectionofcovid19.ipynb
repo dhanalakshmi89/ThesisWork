{
 "cells": [
  {
   "cell_type": "code",
   "execution_count": 1,
   "id": "1b721de4-63aa-49a8-a7c2-afb000762727",
   "metadata": {},
   "outputs": [],
   "source": [
    "import pandas as pd \n",
    "import os \n",
    "import glob\n",
    "import numpy as np\n",
    "import IPython\n",
    "from features import features\n",
    "from tqdm import tqdm\n",
    "import librosa as lb"
   ]
  },
  {
   "cell_type": "code",
   "execution_count": 2,
   "id": "cbe334bc-6bf7-4e85-a0cc-4cd609217ba7",
   "metadata": {},
   "outputs": [],
   "source": [
    "data = pd.read_csv(r\"C:\\AI project\\coughvid_20211012\\metadata_compiled.csv\")"
   ]
  },
  {
   "cell_type": "code",
   "execution_count": 3,
   "id": "c8a91e03-eedc-4a46-aef9-7e2ecc31ebe2",
   "metadata": {},
   "outputs": [
    {
     "name": "stdout",
     "output_type": "stream",
     "text": [
      "<class 'pandas.core.frame.DataFrame'>\n",
      "RangeIndex: 34434 entries, 0 to 34433\n",
      "Data columns (total 52 columns):\n",
      " #   Column                 Non-Null Count  Dtype  \n",
      "---  ------                 --------------  -----  \n",
      " 0   Unnamed: 0             34434 non-null  int64  \n",
      " 1   uuid                   34434 non-null  object \n",
      " 2   datetime               34434 non-null  object \n",
      " 3   cough_detected         34434 non-null  float64\n",
      " 4   latitude               19431 non-null  float64\n",
      " 5   longitude              19431 non-null  float64\n",
      " 6   age                    19396 non-null  float64\n",
      " 7   gender                 20664 non-null  object \n",
      " 8   respiratory_condition  20664 non-null  object \n",
      " 9   fever_muscle_pain      20664 non-null  object \n",
      " 10  status                 20664 non-null  object \n",
      " 11  status_SSL             8331 non-null   object \n",
      " 12  quality_1              820 non-null    object \n",
      " 13  cough_type_1           820 non-null    object \n",
      " 14  dyspnea_1              820 non-null    object \n",
      " 15  wheezing_1             820 non-null    object \n",
      " 16  stridor_1              820 non-null    object \n",
      " 17  choking_1              820 non-null    object \n",
      " 18  congestion_1           820 non-null    object \n",
      " 19  nothing_1              820 non-null    object \n",
      " 20  diagnosis_1            820 non-null    object \n",
      " 21  severity_1             820 non-null    object \n",
      " 22  quality_2              820 non-null    object \n",
      " 23  cough_type_2           819 non-null    object \n",
      " 24  dyspnea_2              820 non-null    object \n",
      " 25  wheezing_2             820 non-null    object \n",
      " 26  stridor_2              820 non-null    object \n",
      " 27  choking_2              820 non-null    object \n",
      " 28  congestion_2           820 non-null    object \n",
      " 29  nothing_2              820 non-null    object \n",
      " 30  diagnosis_2            820 non-null    object \n",
      " 31  severity_2             820 non-null    object \n",
      " 32  quality_3              820 non-null    object \n",
      " 33  cough_type_3           795 non-null    object \n",
      " 34  dyspnea_3              820 non-null    object \n",
      " 35  wheezing_3             820 non-null    object \n",
      " 36  stridor_3              820 non-null    object \n",
      " 37  choking_3              820 non-null    object \n",
      " 38  congestion_3           820 non-null    object \n",
      " 39  nothing_3              820 non-null    object \n",
      " 40  diagnosis_3            793 non-null    object \n",
      " 41  severity_3             796 non-null    object \n",
      " 42  quality_4              820 non-null    object \n",
      " 43  cough_type_4           803 non-null    object \n",
      " 44  dyspnea_4              820 non-null    object \n",
      " 45  wheezing_4             820 non-null    object \n",
      " 46  stridor_4              820 non-null    object \n",
      " 47  choking_4              820 non-null    object \n",
      " 48  congestion_4           820 non-null    object \n",
      " 49  nothing_4              820 non-null    object \n",
      " 50  diagnosis_4            791 non-null    object \n",
      " 51  severity_4             802 non-null    object \n",
      "dtypes: float64(4), int64(1), object(47)\n",
      "memory usage: 13.7+ MB\n"
     ]
    }
   ],
   "source": [
    "data.info()"
   ]
  },
  {
   "cell_type": "code",
   "execution_count": 4,
   "id": "d748cde4-0b9b-45e9-a0d7-79b6672188fc",
   "metadata": {},
   "outputs": [
    {
     "data": {
      "text/plain": [
       "Unnamed: 0                   0\n",
       "uuid                         0\n",
       "datetime                     0\n",
       "cough_detected               0\n",
       "latitude                 15003\n",
       "longitude                15003\n",
       "age                      15038\n",
       "gender                   13770\n",
       "respiratory_condition    13770\n",
       "fever_muscle_pain        13770\n",
       "status                   13770\n",
       "status_SSL               26103\n",
       "quality_1                33614\n",
       "cough_type_1             33614\n",
       "dyspnea_1                33614\n",
       "wheezing_1               33614\n",
       "stridor_1                33614\n",
       "choking_1                33614\n",
       "congestion_1             33614\n",
       "nothing_1                33614\n",
       "diagnosis_1              33614\n",
       "severity_1               33614\n",
       "quality_2                33614\n",
       "cough_type_2             33615\n",
       "dyspnea_2                33614\n",
       "wheezing_2               33614\n",
       "stridor_2                33614\n",
       "choking_2                33614\n",
       "congestion_2             33614\n",
       "nothing_2                33614\n",
       "diagnosis_2              33614\n",
       "severity_2               33614\n",
       "quality_3                33614\n",
       "cough_type_3             33639\n",
       "dyspnea_3                33614\n",
       "wheezing_3               33614\n",
       "stridor_3                33614\n",
       "choking_3                33614\n",
       "congestion_3             33614\n",
       "nothing_3                33614\n",
       "diagnosis_3              33641\n",
       "severity_3               33638\n",
       "quality_4                33614\n",
       "cough_type_4             33631\n",
       "dyspnea_4                33614\n",
       "wheezing_4               33614\n",
       "stridor_4                33614\n",
       "choking_4                33614\n",
       "congestion_4             33614\n",
       "nothing_4                33614\n",
       "diagnosis_4              33643\n",
       "severity_4               33632\n",
       "dtype: int64"
      ]
     },
     "execution_count": 4,
     "metadata": {},
     "output_type": "execute_result"
    }
   ],
   "source": [
    "data.isnull().sum()"
   ]
  },
  {
   "cell_type": "code",
   "execution_count": 5,
   "id": "d44eb10b-d598-442f-a83e-eb730cf53122",
   "metadata": {},
   "outputs": [
    {
     "data": {
      "text/plain": [
       "status\n",
       "COVID-19        1315\n",
       "healthy        15476\n",
       "symptomatic     3873\n",
       "Name: uuid, dtype: int64"
      ]
     },
     "execution_count": 5,
     "metadata": {},
     "output_type": "execute_result"
    }
   ],
   "source": [
    "data.groupby('status')['uuid'].count()"
   ]
  },
  {
   "cell_type": "code",
   "execution_count": 6,
   "id": "60739c0d-5b3f-42c2-aa78-69a10fd7690f",
   "metadata": {},
   "outputs": [
    {
     "name": "stdout",
     "output_type": "stream",
     "text": [
      "labels Used by Professional\n",
      "[nan 'healthy_cough' 'lower_infection' 'COVID-19' 'obstructive_disease'\n",
      " 'upper_infection']\n",
      "Number of Labeled instances :  820\n",
      "COVID-19               279\n",
      "healthy_cough          259\n",
      "lower_infection        244\n",
      "upper_infection         23\n",
      "obstructive_disease     15\n",
      "Name: diagnosis_1, dtype: int64\n",
      "\n",
      "\n",
      "\n",
      "820\n",
      "labels Used by Professional\n",
      "[nan 'lower_infection' 'COVID-19' 'healthy_cough' 'obstructive_disease'\n",
      " 'upper_infection']\n",
      "Number of Labeled instances :  820\n",
      "COVID-19               285\n",
      "upper_infection        183\n",
      "lower_infection        173\n",
      "obstructive_disease    112\n",
      "healthy_cough           67\n",
      "Name: diagnosis_2, dtype: int64\n",
      "\n",
      "\n",
      "\n",
      "1640\n",
      "labels Used by Professional\n",
      "[nan 'healthy_cough' 'lower_infection' 'upper_infection'\n",
      " 'obstructive_disease' 'COVID-19']\n",
      "Number of Labeled instances :  793\n",
      "upper_infection        364\n",
      "healthy_cough          199\n",
      "lower_infection        194\n",
      "obstructive_disease     35\n",
      "COVID-19                 1\n",
      "Name: diagnosis_3, dtype: int64\n",
      "\n",
      "\n",
      "\n",
      "2433\n",
      "labels Used by Professional\n",
      "[nan 'upper_infection' 'obstructive_disease' 'lower_infection'\n",
      " 'healthy_cough' 'COVID-19']\n",
      "Number of Labeled instances :  791\n",
      "upper_infection        313\n",
      "healthy_cough          221\n",
      "lower_infection        121\n",
      "COVID-19                84\n",
      "obstructive_disease     52\n",
      "Name: diagnosis_4, dtype: int64\n",
      "\n",
      "\n",
      "\n"
     ]
    }
   ],
   "source": [
    "for element in ['diagnosis_1','diagnosis_2', 'diagnosis_3', 'diagnosis_4']:\n",
    "    temp_data = data.copy(deep=True)\n",
    "    if element == 'diagnosis_1':\n",
    "        Labeled_data = temp_data.dropna(subset=element)\n",
    "    else:\n",
    "        print(len(Labeled_data))\n",
    "        Labeled_data = pd.concat([Labeled_data, temp_data.dropna(subset =element)])     \n",
    "    print('labels Used by Professional')\n",
    "    print(data[element].unique())\n",
    "    print('Number of Labeled instances : ',data[element].notnull().sum())\n",
    "    print(data[element].value_counts())\n",
    "    print('\\n\\n')"
   ]
  },
  {
   "cell_type": "code",
   "execution_count": 7,
   "id": "4253ca54-076b-4268-a53e-4014f81cfc7f",
   "metadata": {},
   "outputs": [
    {
     "name": "stdout",
     "output_type": "stream",
     "text": [
      "<class 'pandas.core.frame.DataFrame'>\n",
      "Int64Index: 3224 entries, 51 to 34425\n",
      "Data columns (total 52 columns):\n",
      " #   Column                 Non-Null Count  Dtype  \n",
      "---  ------                 --------------  -----  \n",
      " 0   Unnamed: 0             3224 non-null   int64  \n",
      " 1   uuid                   3224 non-null   object \n",
      " 2   datetime               3224 non-null   object \n",
      " 3   cough_detected         3224 non-null   float64\n",
      " 4   latitude               2039 non-null   float64\n",
      " 5   longitude              2039 non-null   float64\n",
      " 6   age                    2653 non-null   float64\n",
      " 7   gender                 2832 non-null   object \n",
      " 8   respiratory_condition  2832 non-null   object \n",
      " 9   fever_muscle_pain      2832 non-null   object \n",
      " 10  status                 2832 non-null   object \n",
      " 11  status_SSL             1155 non-null   object \n",
      " 12  quality_1              1203 non-null   object \n",
      " 13  cough_type_1           1203 non-null   object \n",
      " 14  dyspnea_1              1203 non-null   object \n",
      " 15  wheezing_1             1203 non-null   object \n",
      " 16  stridor_1              1203 non-null   object \n",
      " 17  choking_1              1203 non-null   object \n",
      " 18  congestion_1           1203 non-null   object \n",
      " 19  nothing_1              1203 non-null   object \n",
      " 20  diagnosis_1            1203 non-null   object \n",
      " 21  severity_1             1203 non-null   object \n",
      " 22  quality_2              1203 non-null   object \n",
      " 23  cough_type_2           1202 non-null   object \n",
      " 24  dyspnea_2              1203 non-null   object \n",
      " 25  wheezing_2             1203 non-null   object \n",
      " 26  stridor_2              1203 non-null   object \n",
      " 27  choking_2              1203 non-null   object \n",
      " 28  congestion_2           1203 non-null   object \n",
      " 29  nothing_2              1203 non-null   object \n",
      " 30  diagnosis_2            1203 non-null   object \n",
      " 31  severity_2             1203 non-null   object \n",
      " 32  quality_3              1179 non-null   object \n",
      " 33  cough_type_3           1174 non-null   object \n",
      " 34  dyspnea_3              1179 non-null   object \n",
      " 35  wheezing_3             1179 non-null   object \n",
      " 36  stridor_3              1179 non-null   object \n",
      " 37  choking_3              1179 non-null   object \n",
      " 38  congestion_3           1179 non-null   object \n",
      " 39  nothing_3              1179 non-null   object \n",
      " 40  diagnosis_3            1173 non-null   object \n",
      " 41  severity_3             1175 non-null   object \n",
      " 42  quality_4              1178 non-null   object \n",
      " 43  cough_type_4           1175 non-null   object \n",
      " 44  dyspnea_4              1178 non-null   object \n",
      " 45  wheezing_4             1178 non-null   object \n",
      " 46  stridor_4              1178 non-null   object \n",
      " 47  choking_4              1178 non-null   object \n",
      " 48  congestion_4           1178 non-null   object \n",
      " 49  nothing_4              1178 non-null   object \n",
      " 50  diagnosis_4            1169 non-null   object \n",
      " 51  severity_4             1171 non-null   object \n",
      "dtypes: float64(4), int64(1), object(47)\n",
      "memory usage: 1.3+ MB\n"
     ]
    }
   ],
   "source": [
    "Labeled_data.info()"
   ]
  },
  {
   "cell_type": "code",
   "execution_count": 8,
   "id": "2cfb4284-17e9-426c-87f8-9d86972fd270",
   "metadata": {},
   "outputs": [
    {
     "name": "stdout",
     "output_type": "stream",
     "text": [
      "2841\n",
      "130\n",
      "2506\n"
     ]
    }
   ],
   "source": [
    "def multi_label_ids(df):\n",
    "    repeated_counts = Labeled_data['uuid'].value_counts()\n",
    "    uuid = []\n",
    "    for item in repeated_counts.index:\n",
    "        if repeated_counts[item] > 1:\n",
    "            uuid.append(item)\n",
    "    return uuid\n",
    "multi_label_uuids = multi_label_ids(Labeled_data)\n",
    "Labeled_data = Labeled_data.drop_duplicates(subset=['uuid'])\n",
    "print(len(Labeled_data))\n",
    "print(len(multi_label_uuids))\n",
    "print(Labeled_data['status'].notnull().sum())"
   ]
  },
  {
   "cell_type": "code",
   "execution_count": 9,
   "id": "b5217a32-f971-4f02-9776-95b4ed91e2d7",
   "metadata": {},
   "outputs": [
    {
     "name": "stdout",
     "output_type": "stream",
     "text": [
      "2788\n"
     ]
    }
   ],
   "source": [
    "print(len(Labeled_data[Labeled_data['cough_detected']> 0.25]))"
   ]
  },
  {
   "cell_type": "code",
   "execution_count": 10,
   "id": "2fcc8433-1e63-4c7f-a70b-92c547f96411",
   "metadata": {},
   "outputs": [],
   "source": [
    "def validate_path(DATA_PTH: str, uuid:str)-> str:\n",
    "    if os.path.exists(os.path.join(DATA_PTH, uuid+'.webm')):\n",
    "        path = os.path.join(DATA_PTH, uuid+'.webm')\n",
    "    elif os.path.exists(os.path.join(DATA_PTH, uuid+'.wav')):\n",
    "        path = os.path.join(DATA_PTH, uuid+'.wav')\n",
    "    elif os.path.exists(os.path.join(DATA_PTH, uuid+'.ogg')):\n",
    "        path = os.path.join(DATA_PTH, uuid+'.ogg')\n",
    "    else:\n",
    "        path = None\n",
    "    return path"
   ]
  },
  {
   "cell_type": "code",
   "execution_count": 11,
   "id": "0d8ed8f2-529e-430b-bf9b-7f0bedbf1b45",
   "metadata": {},
   "outputs": [],
   "source": [
    "def multi_label_selection(df):\n",
    "    expert_label_cols = ['diagnosis_1','diagnosis_2', 'diagnosis_3', 'diagnosis_4']\n",
    "    quality_cols = ['quality_1', 'quality_2', 'quality_3', 'quality_4']\n",
    "    severity_cols = ['severity_1', 'severity_2', 'severity_3', 'severity_4']\n",
    "    expert_labels = []\n",
    "    quality = []\n",
    "    severity = []\n",
    "    for item in expert_label_cols:\n",
    "        if type(df[item]) != float:\n",
    "            expert_labels.append(df[item])\n",
    "    for item in quality_cols:\n",
    "        if type(df[item]) != float:\n",
    "            quality.append(df[item])\n",
    "    for item in severity_cols:\n",
    "        if type(df[item]) != float:\n",
    "            severity.append(df[item])\n",
    "    user_label     = df['status']\n",
    "    expert_label = max(set(expert_labels), key=expert_labels.count)\n",
    "    quality = max(set(quality), key=quality.count)\n",
    "    severity = max(set(severity), key=severity.count)\n",
    "    return expert_label, user_label, quality, severity"
   ]
  },
  {
   "cell_type": "code",
   "execution_count": 12,
   "id": "cfd15348-0a7b-46df-8e0a-607a6fe25f6d",
   "metadata": {},
   "outputs": [],
   "source": [
    "def single_label_extraction(df):\n",
    "    expert_label_cols = ['diagnosis_1','diagnosis_2', 'diagnosis_3', 'diagnosis_4']\n",
    "    quality_cols = ['quality_1', 'quality_2', 'quality_3', 'quality_4']\n",
    "    severity_cols = ['severity_1', 'severity_2', 'severity_3', 'severity_4']\n",
    "    expert_label = None\n",
    "    quality = None\n",
    "    severity = None\n",
    "    user_label = df['status']\n",
    "    for item in expert_label_cols:\n",
    "        if expert_label is None:\n",
    "            if type(df[item]) != float:\n",
    "                expert_label = df[item]\n",
    "    for item in quality_cols:\n",
    "        if quality is None:\n",
    "            if type(df[item]) != float:\n",
    "                quality = df[item]\n",
    "    for item in severity_cols:\n",
    "        if severity is None:\n",
    "            if type(df[item]) != float:\n",
    "                severity = df[item]\n",
    "    return expert_label, user_label, quality, severity"
   ]
  },
  {
   "cell_type": "code",
   "execution_count": 13,
   "id": "c8c894f1-0bb7-44ac-be82-3c53baee123c",
   "metadata": {},
   "outputs": [
    {
     "name": "stderr",
     "output_type": "stream",
     "text": [
      "  0%|                                                                                         | 0/2841 [00:00<?, ?it/s]C:\\Users\\mdhan\\anaconda3\\lib\\site-packages\\librosa\\util\\decorators.py:88: UserWarning: PySoundFile failed. Trying audioread instead.\n",
      "  return f(*args, **kwargs)\n",
      "  0%|                                                                               | 1/2841 [00:02<1:48:09,  2.28s/it]C:\\Users\\mdhan\\anaconda3\\lib\\site-packages\\librosa\\util\\decorators.py:88: UserWarning: PySoundFile failed. Trying audioread instead.\n",
      "  return f(*args, **kwargs)\n",
      "100%|███████████████████████████████████████████████████████████████████████████| 2841/2841 [17:14:25<00:00, 21.85s/it]\n"
     ]
    }
   ],
   "source": [
    "DATA_PTH = r\"C:\\AI project\\coughvid_20211012\"\n",
    "#transformed_data = df.DataFrame(columns=['Path', 'expert_label', 'user_label', 'cough_detected', 'quality', 'age', 'gender', 'respiratory_condition', 'fever_muscle_pain', 'status_SSL', 'severity'])\n",
    "featrue_ext = features()\n",
    "def label_extraction(df):\n",
    "    data_dict = {}\n",
    "    uuids = df['uuid'].unique()\n",
    "    df = df.set_index('uuid')\n",
    "    #print(df.head(2))\n",
    "    for uuid in tqdm(uuids):\n",
    "        temp_dict = {}\n",
    "        data_sample = df.loc[uuid]\n",
    "        temp_dict['path'] = validate_path(DATA_PTH, uuid)\n",
    "        #print(temp_dict['path'])\n",
    "        aud, fs = lb.load(temp_dict['path'])\n",
    "        f_mfcc = featrue_ext.MFCC([fs,aud])\n",
    "        for pos,feature in enumerate(f_mfcc[1]):\n",
    "            temp_dict[feature]= f_mfcc[0][pos]\n",
    "        temp_dict['D_frq'] = featrue_ext.DF([fs,aud])\n",
    "        if uuid in multi_label_uuids:\n",
    "            temp_dict['expert_label'], temp_dict['user_label'], temp_dict['quality'], temp_dict['severity'] = multi_label_selection(data_sample)\n",
    "        else:\n",
    "            temp_dict['expert_label'], temp_dict['user_label'], temp_dict['quality'], temp_dict['severity'] = single_label_extraction(data_sample)\n",
    "        temp_dict['age'], temp_dict['gender'],temp_dict['cough_detected'],   \\\n",
    "        temp_dict['respiratory_condition'], temp_dict['fever_muscle_pain'],  \\\n",
    "        temp_dict['status_SSL'] = data_sample['age'], data_sample['gender'], \\\n",
    "        data_sample['cough_detected'], data_sample['respiratory_condition'], \\\n",
    "        data_sample['fever_muscle_pain'], data_sample['status_SSL']\n",
    "        data_dict[uuid] = temp_dict\n",
    "    return pd.DataFrame.from_dict(data_dict, orient='index')\n",
    "Tnsfd_data = label_extraction(Labeled_data)"
   ]
  },
  {
   "cell_type": "code",
   "execution_count": 14,
   "id": "296af8d7",
   "metadata": {},
   "outputs": [
    {
     "name": "stdout",
     "output_type": "stream",
     "text": [
      "Requirement already satisfied: ffmpeg in c:\\users\\mdhan\\anaconda3\\lib\\site-packages (1.4)\n"
     ]
    }
   ],
   "source": [
    "!pip install ffmpeg"
   ]
  },
  {
   "cell_type": "code",
   "execution_count": 15,
   "id": "42f75b8d-6b26-4bdd-b93b-b3f49bc8154d",
   "metadata": {},
   "outputs": [
    {
     "name": "stdout",
     "output_type": "stream",
     "text": [
      "<class 'pandas.core.frame.DataFrame'>\n",
      "Index: 2841 entries, 006d8d1c-2bf6-46a6-8ef2-1823898a4733 to ffedc843-bfc2-4ad6-a749-2bc86bdac84a\n",
      "Data columns (total 38 columns):\n",
      " #   Column                 Non-Null Count  Dtype  \n",
      "---  ------                 --------------  -----  \n",
      " 0   path                   2841 non-null   object \n",
      " 1   MFCC_mean0             2841 non-null   float32\n",
      " 2   MFCC_mean1             2841 non-null   float32\n",
      " 3   MFCC_mean2             2841 non-null   float32\n",
      " 4   MFCC_mean3             2841 non-null   float32\n",
      " 5   MFCC_mean4             2841 non-null   float32\n",
      " 6   MFCC_mean5             2841 non-null   float32\n",
      " 7   MFCC_mean6             2841 non-null   float32\n",
      " 8   MFCC_mean7             2841 non-null   float32\n",
      " 9   MFCC_mean8             2841 non-null   float32\n",
      " 10  MFCC_mean9             2841 non-null   float32\n",
      " 11  MFCC_mean10            2841 non-null   float32\n",
      " 12  MFCC_mean11            2841 non-null   float32\n",
      " 13  MFCC_mean12            2841 non-null   float32\n",
      " 14  MFCC_std0              2841 non-null   float32\n",
      " 15  MFCC_std1              2841 non-null   float32\n",
      " 16  MFCC_std2              2841 non-null   float32\n",
      " 17  MFCC_std3              2841 non-null   float32\n",
      " 18  MFCC_std4              2841 non-null   float32\n",
      " 19  MFCC_std5              2841 non-null   float32\n",
      " 20  MFCC_std6              2841 non-null   float32\n",
      " 21  MFCC_std7              2841 non-null   float32\n",
      " 22  MFCC_std8              2841 non-null   float32\n",
      " 23  MFCC_std9              2841 non-null   float32\n",
      " 24  MFCC_std10             2841 non-null   float32\n",
      " 25  MFCC_std11             2841 non-null   float32\n",
      " 26  MFCC_std12             2841 non-null   float32\n",
      " 27  D_frq                  2841 non-null   object \n",
      " 28  expert_label           2841 non-null   object \n",
      " 29  user_label             2506 non-null   object \n",
      " 30  quality                2841 non-null   object \n",
      " 31  severity               2840 non-null   object \n",
      " 32  age                    2342 non-null   float64\n",
      " 33  gender                 2506 non-null   object \n",
      " 34  cough_detected         2841 non-null   float64\n",
      " 35  respiratory_condition  2506 non-null   object \n",
      " 36  fever_muscle_pain      2506 non-null   object \n",
      " 37  status_SSL             1018 non-null   object \n",
      "dtypes: float32(26), float64(2), object(10)\n",
      "memory usage: 577.1+ KB\n"
     ]
    }
   ],
   "source": [
    "Tnsfd_data.info()"
   ]
  },
  {
   "cell_type": "code",
   "execution_count": 16,
   "id": "0c28a66c-4338-4652-be10-b220b677b9c7",
   "metadata": {},
   "outputs": [],
   "source": [
    "x = np.array(Tnsfd_data)[:,1:27]"
   ]
  },
  {
   "cell_type": "code",
   "execution_count": 17,
   "id": "ecc1b6b8-b222-42f1-9f24-87adc61fc673",
   "metadata": {},
   "outputs": [],
   "source": [
    "y = np.array(Tnsfd_data)[:,28]"
   ]
  },
  {
   "cell_type": "code",
   "execution_count": 18,
   "id": "7424616f-ddd3-4562-b81e-328ba3db9f2c",
   "metadata": {},
   "outputs": [],
   "source": [
    "def label_parser(df):\n",
    "    labels = []\n",
    "    for label in df:\n",
    "        if label == 'COVID-19':\n",
    "            labels.append(1)\n",
    "        else:\n",
    "            labels.append(0)\n",
    "    return labels"
   ]
  },
  {
   "cell_type": "code",
   "execution_count": 19,
   "id": "78da442c-343f-4a0c-87df-5296b06a95ed",
   "metadata": {},
   "outputs": [],
   "source": [
    "labels = label_parser(y)"
   ]
  },
  {
   "cell_type": "code",
   "execution_count": 20,
   "id": "40276bc0-dd32-4bbd-b08d-ac4fc66d6029",
   "metadata": {},
   "outputs": [],
   "source": [
    "from sklearn.preprocessing import RobustScaler\n",
    "from sklearn.impute import SimpleImputer\n",
    "from sklearn.model_selection import train_test_split\n",
    "from sklearn.preprocessing import StandardScaler,MinMaxScaler, RobustScaler, OneHotEncoder\n",
    "from sklearn.impute import SimpleImputer\n",
    "from sklearn.model_selection import train_test_split\n",
    "from sklearn.compose import ColumnTransformer\n",
    "from sklearn.compose import make_column_selector as selector\n",
    "from sklearn.pipeline import Pipeline\n",
    "from sklearn.model_selection import KFold,StratifiedKFold, ShuffleSplit, StratifiedShuffleSplit\n",
    "from sklearn.model_selection import GridSearchCV, RandomizedSearchCV\n",
    "from sklearn import metrics\n",
    "from sklearn.metrics import r2_score,mean_squared_error"
   ]
  },
  {
   "cell_type": "code",
   "execution_count": 21,
   "id": "e1c4f188-874b-4773-8ea4-ff20a765a244",
   "metadata": {},
   "outputs": [],
   "source": [
    "imput = SimpleImputer(missing_values=np.nan, strategy='mean')"
   ]
  },
  {
   "cell_type": "code",
   "execution_count": 22,
   "id": "e94ef1fc-7bea-4d87-b08f-91eaca61e53a",
   "metadata": {},
   "outputs": [],
   "source": [
    "Scaler = MinMaxScaler()"
   ]
  },
  {
   "cell_type": "code",
   "execution_count": 23,
   "id": "07abc2bc-a8d4-4d68-8662-16c1ed8b6c7d",
   "metadata": {},
   "outputs": [],
   "source": [
    "cv = KFold(n_splits=5)"
   ]
  },
  {
   "cell_type": "code",
   "execution_count": 24,
   "id": "a802f0aa-d07e-45dc-830b-a9bbd6818047",
   "metadata": {},
   "outputs": [],
   "source": [
    "X_train, X_test, y_train, y_test = train_test_split(x, labels, test_size=0.25, random_state=1)"
   ]
  },
  {
   "cell_type": "code",
   "execution_count": 25,
   "id": "6e788f59-11be-45ff-a835-ffc3921e4a4b",
   "metadata": {},
   "outputs": [],
   "source": [
    "from sklearn.ensemble import RandomForestClassifier\n",
    "Rf_est = RandomForestClassifier()"
   ]
  },
  {
   "cell_type": "code",
   "execution_count": 26,
   "id": "a909ebe7-ee0a-4ba5-b7cf-245475ce71c2",
   "metadata": {},
   "outputs": [],
   "source": [
    "RF_pipe = Pipeline(steps=[('scaler', Scaler), ('classifier', Rf_est)])"
   ]
  },
  {
   "cell_type": "code",
   "execution_count": 27,
   "id": "a704b6e6-ab1d-4596-a9d1-04eda056fc0a",
   "metadata": {},
   "outputs": [],
   "source": [
    "param_grid = {\n",
    "    'classifier__n_estimators' : np.arange(10,100,20),\n",
    "    'classifier__max_depth': np.arange(20,27,3),\n",
    "    'classifier__criterion':['gini','entropy'],\n",
    "    'classifier__min_samples_split':np.arange(2,20,8),   \n",
    "}"
   ]
  },
  {
   "cell_type": "code",
   "execution_count": 28,
   "id": "3fe5d284-f027-4a14-a5ac-44a0765d98a5",
   "metadata": {},
   "outputs": [],
   "source": [
    "RF_grid = GridSearchCV(RF_pipe, param_grid,cv = cv, verbose = 2, n_jobs=-1)"
   ]
  },
  {
   "cell_type": "code",
   "execution_count": 29,
   "id": "7372777d-8b14-4bcb-9fa1-756b3686064c",
   "metadata": {},
   "outputs": [
    {
     "name": "stdout",
     "output_type": "stream",
     "text": [
      "Fitting 5 folds for each of 90 candidates, totalling 450 fits\n"
     ]
    }
   ],
   "source": [
    "RF_grid = RF_grid.fit(X_train,y_train)"
   ]
  },
  {
   "cell_type": "code",
   "execution_count": 30,
   "id": "daae84c1-9e44-413d-9a3a-abffc9a64608",
   "metadata": {},
   "outputs": [
    {
     "name": "stdout",
     "output_type": "stream",
     "text": [
      "\n",
      "Best R2 score : 0.80  Best Params :  {'classifier__criterion': 'entropy', 'classifier__max_depth': 20, 'classifier__min_samples_split': 10, 'classifier__n_estimators': 90}\n"
     ]
    }
   ],
   "source": [
    "print('\\nBest R2 score : %.2f'%RF_grid.best_score_, ' Best Params : ', str(RF_grid.best_params_))"
   ]
  },
  {
   "cell_type": "code",
   "execution_count": 31,
   "id": "0110ec3d-c7a6-4a03-a04a-7d80dbc1be4d",
   "metadata": {},
   "outputs": [
    {
     "name": "stdout",
     "output_type": "stream",
     "text": [
      "0.8171589310829818\n"
     ]
    }
   ],
   "source": [
    "print(RF_grid.best_estimator_.score(X_test,y_test))"
   ]
  },
  {
   "cell_type": "code",
   "execution_count": 33,
   "id": "5d57e30d-e99a-4b63-9b5f-2e2bf45c3364",
   "metadata": {},
   "outputs": [
    {
     "name": "stdout",
     "output_type": "stream",
     "text": [
      "healthy\n"
     ]
    },
    {
     "data": {
      "text/html": [
       "\n",
       "                <audio  controls=\"controls\" >\n",
       "                    <source src=\"data:video/webm;base64,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\" type=\"video/webm\" />\n",
       "                    Your browser does not support the audio element.\n",
       "                </audio>\n",
       "              "
      ],
      "text/plain": [
       "<IPython.lib.display.Audio object>"
      ]
     },
     "metadata": {},
     "output_type": "display_data"
    },
    {
     "name": "stdout",
     "output_type": "stream",
     "text": [
      "\n",
      "\n",
      "COVID-19\n"
     ]
    },
    {
     "data": {
      "text/html": [
       "\n",
       "                <audio  controls=\"controls\" >\n",
       "                    <source src=\"data:video/webm;base64,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\" type=\"video/webm\" />\n",
       "                    Your browser does not support the audio element.\n",
       "                </audio>\n",
       "              "
      ],
      "text/plain": [
       "<IPython.lib.display.Audio object>"
      ]
     },
     "metadata": {},
     "output_type": "display_data"
    },
    {
     "name": "stdout",
     "output_type": "stream",
     "text": [
      "\n",
      "\n",
      "symptomatic\n"
     ]
    },
    {
     "data": {
      "text/html": [
       "\n",
       "                <audio  controls=\"controls\" >\n",
       "                    <source src=\"data:video/webm;base64,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\" type=\"video/webm\" />\n",
       "                    Your browser does not support the audio element.\n",
       "                </audio>\n",
       "              "
      ],
      "text/plain": [
       "<IPython.lib.display.Audio object>"
      ]
     },
     "metadata": {},
     "output_type": "display_data"
    },
    {
     "name": "stdout",
     "output_type": "stream",
     "text": [
      "\n",
      "\n"
     ]
    }
   ],
   "source": [
    "from numpy import nan\n",
    "dir_path = r\"C:\\AI project\\coughvid_20211012\"\n",
    "sts = data['status'].unique()\n",
    "paths = {}\n",
    "for status in data['status'].unique():\n",
    "    #print(status)\n",
    "    if type(status) == float:\n",
    "        continue\n",
    "    Temp_data = data[data['status'] == status]\n",
    "    Temp_data = Temp_data[Temp_data['cough_detected'] > 0.5]\n",
    "    sample = Temp_data.iloc[[0]]\n",
    "    if os.path.exists(os.path.join(dir_path, list(sample['uuid'])[0]+'.webm')):\n",
    "        path = os.path.join(dir_path, list(sample['uuid'])[0]+'.webm')\n",
    "    else:\n",
    "        path = os.path.join(dir_path, list(sample['uuid'])[0]+'.wav')\n",
    "    paths[status] = path\n",
    "print('healthy')\n",
    "IPython.display.display(IPython.display.Audio(paths['healthy']))\n",
    "print('\\n')\n",
    "print('COVID-19')\n",
    "IPython.display.display(IPython.display.Audio(paths['COVID-19']))\n",
    "print('\\n')\n",
    "print('symptomatic')\n",
    "IPython.display.display(IPython.display.Audio(paths['symptomatic']))\n",
    "print('\\n')"
   ]
  },
  {
   "cell_type": "code",
   "execution_count": null,
   "id": "48c26a65-c7b9-4c46-ac20-6907f7dacb7b",
   "metadata": {},
   "outputs": [],
   "source": []
  }
 ],
 "metadata": {
  "kernelspec": {
   "display_name": "Python 3 (ipykernel)",
   "language": "python",
   "name": "python3"
  },
  "language_info": {
   "codemirror_mode": {
    "name": "ipython",
    "version": 3
   },
   "file_extension": ".py",
   "mimetype": "text/x-python",
   "name": "python",
   "nbconvert_exporter": "python",
   "pygments_lexer": "ipython3",
   "version": "3.9.12"
  }
 },
 "nbformat": 4,
 "nbformat_minor": 5
}
